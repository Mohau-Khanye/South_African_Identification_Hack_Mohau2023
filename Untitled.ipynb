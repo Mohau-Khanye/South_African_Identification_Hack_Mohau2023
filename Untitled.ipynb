{
 "cells": [
  {
   "cell_type": "code",
   "execution_count": 1,
   "id": "c91d9680",
   "metadata": {},
   "outputs": [
    {
     "name": "stdout",
     "output_type": "stream",
     "text": [
      "Collecting kaggle\n",
      "  Downloading kaggle-1.5.16.tar.gz (83 kB)\n",
      "                                              0.0/83.6 kB ? eta -:--:--\n",
      "     ----                                     10.2/83.6 kB ? eta -:--:--\n",
      "     ----                                     10.2/83.6 kB ? eta -:--:--\n",
      "     ----                                     10.2/83.6 kB ? eta -:--:--\n",
      "     ----                                     10.2/83.6 kB ? eta -:--:--\n",
      "     ------------------                     41.0/83.6 kB 151.3 kB/s eta 0:00:01\n",
      "     ---------------------------            61.4/83.6 kB 233.8 kB/s eta 0:00:01\n",
      "     ---------------------------            61.4/83.6 kB 233.8 kB/s eta 0:00:01\n",
      "     ---------------------------            61.4/83.6 kB 233.8 kB/s eta 0:00:01\n",
      "     ---------------------------            61.4/83.6 kB 233.8 kB/s eta 0:00:01\n",
      "     ---------------------------            61.4/83.6 kB 233.8 kB/s eta 0:00:01\n",
      "     ---------------------------            61.4/83.6 kB 233.8 kB/s eta 0:00:01\n",
      "     ---------------------------            61.4/83.6 kB 233.8 kB/s eta 0:00:01\n",
      "     ---------------------------            61.4/83.6 kB 233.8 kB/s eta 0:00:01\n",
      "     -------------------------------------  81.9/83.6 kB 120.7 kB/s eta 0:00:01\n",
      "     -------------------------------------- 83.6/83.6 kB 111.8 kB/s eta 0:00:00\n",
      "  Preparing metadata (setup.py): started\n",
      "  Preparing metadata (setup.py): finished with status 'done'\n",
      "Requirement already satisfied: six>=1.10 in c:\\users\\mohau\\anaconda3\\lib\\site-packages (from kaggle) (1.16.0)\n",
      "Requirement already satisfied: certifi in c:\\users\\mohau\\anaconda3\\lib\\site-packages (from kaggle) (2023.7.22)\n",
      "Requirement already satisfied: python-dateutil in c:\\users\\mohau\\anaconda3\\lib\\site-packages (from kaggle) (2.8.2)\n",
      "Requirement already satisfied: requests in c:\\users\\mohau\\anaconda3\\lib\\site-packages (from kaggle) (2.29.0)\n",
      "Requirement already satisfied: tqdm in c:\\users\\mohau\\anaconda3\\lib\\site-packages (from kaggle) (4.65.0)\n",
      "Requirement already satisfied: python-slugify in c:\\users\\mohau\\anaconda3\\lib\\site-packages (from kaggle) (5.0.2)\n",
      "Requirement already satisfied: urllib3 in c:\\users\\mohau\\anaconda3\\lib\\site-packages (from kaggle) (1.26.16)\n",
      "Requirement already satisfied: bleach in c:\\users\\mohau\\anaconda3\\lib\\site-packages (from kaggle) (4.1.0)\n",
      "Requirement already satisfied: packaging in c:\\users\\mohau\\anaconda3\\lib\\site-packages (from bleach->kaggle) (23.0)\n",
      "Requirement already satisfied: webencodings in c:\\users\\mohau\\anaconda3\\lib\\site-packages (from bleach->kaggle) (0.5.1)\n",
      "Requirement already satisfied: text-unidecode>=1.3 in c:\\users\\mohau\\anaconda3\\lib\\site-packages (from python-slugify->kaggle) (1.3)\n",
      "Requirement already satisfied: charset-normalizer<4,>=2 in c:\\users\\mohau\\anaconda3\\lib\\site-packages (from requests->kaggle) (2.0.4)\n",
      "Requirement already satisfied: idna<4,>=2.5 in c:\\users\\mohau\\anaconda3\\lib\\site-packages (from requests->kaggle) (3.4)\n",
      "Requirement already satisfied: colorama in c:\\users\\mohau\\anaconda3\\lib\\site-packages (from tqdm->kaggle) (0.4.6)\n",
      "Building wheels for collected packages: kaggle\n",
      "  Building wheel for kaggle (setup.py): started\n",
      "  Building wheel for kaggle (setup.py): finished with status 'done'\n",
      "  Created wheel for kaggle: filename=kaggle-1.5.16-py3-none-any.whl size=110697 sha256=9f9ae256446521a83679356444928a0dc7690fcd80943ea9c1506ee46ddf52db\n",
      "  Stored in directory: c:\\users\\mohau\\appdata\\local\\pip\\cache\\wheels\\6a\\2b\\d0\\457dd27de499e9423caf738e743c4a3f82886ee6b19f89d5b7\n",
      "Successfully built kaggle\n",
      "Installing collected packages: kaggle\n",
      "Successfully installed kaggle-1.5.16\n"
     ]
    }
   ],
   "source": [
    "!pip install kaggle\n"
   ]
  },
  {
   "cell_type": "code",
   "execution_count": 3,
   "id": "0c442f74",
   "metadata": {},
   "outputs": [
    {
     "ename": "ModuleNotFoundError",
     "evalue": "No module named 'google.colab'",
     "output_type": "error",
     "traceback": [
      "\u001b[1;31m---------------------------------------------------------------------------\u001b[0m",
      "\u001b[1;31mModuleNotFoundError\u001b[0m                       Traceback (most recent call last)",
      "Cell \u001b[1;32mIn[3], line 1\u001b[0m\n\u001b[1;32m----> 1\u001b[0m \u001b[38;5;28;01mfrom\u001b[39;00m \u001b[38;5;21;01mgoogle\u001b[39;00m\u001b[38;5;21;01m.\u001b[39;00m\u001b[38;5;21;01mcolab\u001b[39;00m \u001b[38;5;28;01mimport\u001b[39;00m files\n\u001b[0;32m      2\u001b[0m files\u001b[38;5;241m.\u001b[39mupload(kaggle\u001b[38;5;241m.\u001b[39mjsaon)\n",
      "\u001b[1;31mModuleNotFoundError\u001b[0m: No module named 'google.colab'"
     ]
    }
   ],
   "source": [
    "from google.colab import files\n",
    "files.upload(kaggle.jsaon)  # Choose your kaggle.json file\n"
   ]
  },
  {
   "cell_type": "code",
   "execution_count": null,
   "id": "15e12abf",
   "metadata": {},
   "outputs": [],
   "source": [
    "import os\n",
    "\n",
    "# Set Kaggle API credentials\n",
    "os.environ['mohaupercy'] = \"mohaupercy\"\n",
    "os.environ['KAGGLE_KEY'] = \"your_kaggle_key\"\n"
   ]
  },
  {
   "cell_type": "code",
   "execution_count": null,
   "id": "bea51931",
   "metadata": {},
   "outputs": [],
   "source": [
    "!kaggle competitions download -c south-african-language-identification-hack-2023\n"
   ]
  },
  {
   "cell_type": "code",
   "execution_count": null,
   "id": "eddffeaf",
   "metadata": {},
   "outputs": [],
   "source": [
    "import pandas as pd\n",
    "\n",
    "# Load the training data\n",
    "df_train = pd.read_csv('train.csv', index_col=0)\n",
    "\n",
    "# Load the test data\n",
    "df_test = pd.read_csv('test.csv', index_col=0)\n"
   ]
  }
 ],
 "metadata": {
  "kernelspec": {
   "display_name": "Python 3 (ipykernel)",
   "language": "python",
   "name": "python3"
  },
  "language_info": {
   "codemirror_mode": {
    "name": "ipython",
    "version": 3
   },
   "file_extension": ".py",
   "mimetype": "text/x-python",
   "name": "python",
   "nbconvert_exporter": "python",
   "pygments_lexer": "ipython3",
   "version": "3.11.3"
  }
 },
 "nbformat": 4,
 "nbformat_minor": 5
}
